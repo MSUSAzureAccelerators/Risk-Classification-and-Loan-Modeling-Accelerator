{
  "metadata": {},
  "nbformat": 4,
  "nbformat_minor": 2,
  "cells": [
    {
      "cell_type": "code",
      "execution_count": null,
      "metadata": {},
      "outputs": [],
      "source": [
        "# ------------------------------------------------------------------------------\n",
        "# This is generated from https://ml.azure.com/pipelineruns/id/01626ace-5603-49a7-bfe2-6328cbd208b9/b03ca810-8de2-4b1e-98c4-7eb1c7dec20b?wsid=/subscriptions/6f931dc1-9715-4a59-a849-0c049740fa0f/resourcegroups/Chubb/workspaces/srgoaml&tid=\n",
        "# To run this code, please install SDK by this command:\n",
        "# !pip install azure-ml-component[notebooks] --extra-index-url https://azuremlsdktestpypi.azureedge.net/modulesdkpreview  --user --upgrade\n",
        "# More detailed guide to set up your environment: https://github.com/Azure/DesignerPrivatePreviewFeatures/blob/master/azure-ml-components/samples/setup-environment.ipynb\n",
        "# ------------------------------------------------------------------------------"
      ]
    },
    {
      "cell_type": "code",
      "execution_count": null,
      "metadata": {},
      "outputs": [],
      "source": [
        "from azureml.core import Workspace\n",
        "from azure.ml.component import Pipeline, Component, dsl"
      ]
    },
    {
      "cell_type": "code",
      "execution_count": null,
      "metadata": {},
      "outputs": [],
      "source": [
        "# configure aml workspace\n",
        "ws = Workspace.from_config()"
      ]
    },
    {
      "cell_type": "code",
      "execution_count": null,
      "metadata": {},
      "outputs": [],
      "source": [
        "# get components\n",
        "export_data_func = Component.load(ws, name='Export Data')\n",
        "score_model_func = Component.load(ws, name='Score Model')"
      ]
    },
    {
      "cell_type": "code",
      "execution_count": null,
      "metadata": {},
      "outputs": [],
      "source": [
        "# get dataset\n",
        "from azureml.core import Dataset\n",
        "md_sba_predictloanvalue_train_model_trained_model_0e5fdda5 = Dataset.get_by_name(ws, name='MD-SBA_PredictLoanValue-Train_Model-Trained_model-0e5fdda5', version=3)\n",
        "sbacurated = Dataset.get_by_name(ws, name='sbacurated', version=1)"
      ]
    },
    {
      "cell_type": "code",
      "execution_count": null,
      "metadata": {},
      "outputs": [],
      "source": [
        "# define pipeline\n",
        "@dsl.pipeline(name='SBA_PredictLoanValue-batch_inference_02-03-2021-11-21 Run 9', default_compute_target='SRGOAML2')\n",
        "def generated_pipeline(amlinputparameter=None):\n",
        "    score_model_0 = score_model_func(\n",
        "        trained_model=md_sba_predictloanvalue_train_model_trained_model_0e5fdda5,\n",
        "        dataset=amlinputparameter,\n",
        "        append_score_columns_to_output=True)\n",
        "    score_model_0.runsettings.configure(environment_variables='{}')\n",
        "    \n",
        "    export_data_0 = export_data_func(\n",
        "        input_path=score_model_0.outputs.scored_dataset,\n",
        "        datastore_type='AzureBlob',\n",
        "        output_data_store='sbaamloutput',\n",
        "        output_path='/amlscoreddata.csv',\n",
        "        output_file_type='csv',\n",
        "        datatable_name='',\n",
        "        column_list_to_be_saved='',\n",
        "        column_list_datatable_columns='',\n",
        "        number_rows_per_operation=50)\n",
        "    export_data_0.runsettings.configure(environment_variables='{}')"
      ]
    },
    {
      "cell_type": "code",
      "execution_count": null,
      "metadata": {},
      "outputs": [],
      "source": [
        "# create a pipeline\n",
        "pipeline = generated_pipeline(amlinputparameter=sbacurated)"
      ]
    },
    {
      "cell_type": "code",
      "execution_count": null,
      "metadata": {},
      "outputs": [],
      "source": [
        "# validate pipeline and visualize the graph\n",
        "pipeline.validate()"
      ]
    },
    {
      "cell_type": "code",
      "execution_count": null,
      "metadata": {},
      "outputs": [],
      "source": [
        "# submit a pipeline run\n",
        "# pipeline.submit(experiment_name='sample-experiment-name').wait_for_completion()"
      ]
    }
  ]
}